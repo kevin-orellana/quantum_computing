{
 "cells": [
  {
   "cell_type": "code",
   "execution_count": 2,
   "metadata": {
    "collapsed": true
   },
   "outputs": [],
   "source": [
    "%matplotlib inline\n",
    "import matplotlib.pyplot as plt\n",
    "import seaborn\n",
    "import numpy as np\n",
    "from scipy import integrate"
   ]
  },
  {
   "cell_type": "code",
   "execution_count": 3,
   "metadata": {
    "collapsed": true
   },
   "outputs": [],
   "source": [
    "### Relevant constants\n",
    "G = 100 # Our Universe, our rules\n",
    "\n",
    "## initial conditions\n",
    "\n",
    "m_1 = 1      #earth\n",
    "m_2 = 1     #sun\n",
    "m_3 = 0.001      #moon\n",
    "\n",
    "M_arr = [m_1, m_2, m_3]\n",
    "\n",
    "n=3\n",
    "## Z_obj = [[x(0), y(0)], [v_x(0), v_y(0)]]\n",
    "Z_1 = [[4.5,0],[0,2]]\n",
    "Z_2 = [[-4.5,0],[0,-2.003]]\n",
    "Z_3 = [[25,0],[0,3]]\n",
    "\n",
    "Z_arr=np.array([*Z_1[0],*Z_2[0],*Z_3[0],*Z_1[1],*Z_2[1],*Z_3[1]])\n",
    "pos_x =[Z_1[0][0],Z_2[0][0],Z_3[0][0]]\n",
    "pos_y =[Z_1[0][1],Z_2[0][1],Z_3[0][1]]\n",
    "pos_arr = [pos_x,pos_y]\n"
   ]
  },
  {
   "cell_type": "code",
   "execution_count": 4,
   "metadata": {
    "collapsed": true
   },
   "outputs": [],
   "source": [
    "\n",
    "\n",
    "def func(t,Z_arr ):\n",
    "    pos_x = [Z_arr[0], Z_arr[2], Z_arr[4]]\n",
    "    pos_y = [Z_arr[1], Z_arr[3], Z_arr[5]]\n",
    "    denom = lambda i,j: ((pos_x[i]-pos_x[j])**2+(pos_y[i]-pos_y[j])**2)**(3/2)\n",
    "    fulloutx = lambda i,j,k: -G*M_arr[j]*(pos_x[i]-pos_x[j])/denom(i,j) -G*M_arr[k]*(pos_x[i]-pos_x[k])/denom(i,k)\n",
    "    fullouty = lambda i,j,k: -G*M_arr[j]*(pos_y[i]-pos_y[j])/denom(i,j) -G*M_arr[k]*(pos_y[i]-pos_y[k])/denom(i,k)\n",
    "    \n",
    "    return [Z_arr[6],Z_arr[7],Z_arr[8],Z_arr[9],Z_arr[10],Z_arr[11],\n",
    "           fulloutx(0,1,2),fullouty(0,1,2),fulloutx(1,0,2),fullouty(1,0,2), fulloutx(2,1,0),fullouty(2,1,0)]"
   ]
  },
  {
   "cell_type": "code",
   "execution_count": 1,
   "metadata": {},
   "outputs": [
    {
     "ename": "NameError",
     "evalue": "name 'np' is not defined",
     "output_type": "error",
     "traceback": [
      "\u001b[0;31m---------------------------------------------------------------------------\u001b[0m",
      "\u001b[0;31mNameError\u001b[0m                                 Traceback (most recent call last)",
      "\u001b[0;32m<ipython-input-1-c09d0d7605ac>\u001b[0m in \u001b[0;36m<module>\u001b[0;34m\u001b[0m\n\u001b[0;32m----> 1\u001b[0;31m \u001b[0mts\u001b[0m \u001b[0;34m=\u001b[0m \u001b[0mnp\u001b[0m\u001b[0;34m.\u001b[0m\u001b[0mlinspace\u001b[0m\u001b[0;34m(\u001b[0m\u001b[0;36m0\u001b[0m\u001b[0;34m,\u001b[0m\u001b[0;36m100\u001b[0m\u001b[0;34m,\u001b[0m\u001b[0;36m5000\u001b[0m\u001b[0;34m)\u001b[0m\u001b[0;34m\u001b[0m\u001b[0m\n\u001b[0m\u001b[1;32m      2\u001b[0m \u001b[0mUs\u001b[0m \u001b[0;34m=\u001b[0m \u001b[0mintegrate\u001b[0m\u001b[0;34m.\u001b[0m\u001b[0modeint\u001b[0m\u001b[0;34m(\u001b[0m\u001b[0mfunc\u001b[0m\u001b[0;34m,\u001b[0m \u001b[0mZ_arr\u001b[0m\u001b[0;34m,\u001b[0m \u001b[0mts\u001b[0m\u001b[0;34m,\u001b[0m \u001b[0mtfirst\u001b[0m\u001b[0;34m=\u001b[0m\u001b[0;32mTrue\u001b[0m\u001b[0;34m)\u001b[0m\u001b[0;34m\u001b[0m\u001b[0m\n\u001b[1;32m      3\u001b[0m \u001b[0mplt\u001b[0m\u001b[0;34m.\u001b[0m\u001b[0mplot\u001b[0m\u001b[0;34m(\u001b[0m\u001b[0mUs\u001b[0m\u001b[0;34m[\u001b[0m\u001b[0;34m:\u001b[0m\u001b[0;34m,\u001b[0m\u001b[0;36m0\u001b[0m\u001b[0;34m]\u001b[0m\u001b[0;34m,\u001b[0m \u001b[0mUs\u001b[0m\u001b[0;34m[\u001b[0m\u001b[0;34m:\u001b[0m\u001b[0;34m,\u001b[0m\u001b[0;36m1\u001b[0m\u001b[0;34m]\u001b[0m\u001b[0;34m,\u001b[0m \u001b[0mlabel\u001b[0m\u001b[0;34m=\u001b[0m\u001b[0;34m\"object one\"\u001b[0m\u001b[0;34m)\u001b[0m\u001b[0;34m\u001b[0m\u001b[0m\n\u001b[1;32m      4\u001b[0m \u001b[0mplt\u001b[0m\u001b[0;34m.\u001b[0m\u001b[0mplot\u001b[0m\u001b[0;34m(\u001b[0m\u001b[0mUs\u001b[0m\u001b[0;34m[\u001b[0m\u001b[0;34m:\u001b[0m\u001b[0;34m,\u001b[0m\u001b[0;36m2\u001b[0m\u001b[0;34m]\u001b[0m\u001b[0;34m,\u001b[0m \u001b[0mUs\u001b[0m\u001b[0;34m[\u001b[0m\u001b[0;34m:\u001b[0m\u001b[0;34m,\u001b[0m\u001b[0;36m3\u001b[0m\u001b[0;34m]\u001b[0m\u001b[0;34m,\u001b[0m \u001b[0mlabel\u001b[0m\u001b[0;34m=\u001b[0m\u001b[0;34m\"object two\"\u001b[0m\u001b[0;34m)\u001b[0m\u001b[0;34m\u001b[0m\u001b[0m\n\u001b[1;32m      5\u001b[0m \u001b[0mplt\u001b[0m\u001b[0;34m.\u001b[0m\u001b[0mplot\u001b[0m\u001b[0;34m(\u001b[0m\u001b[0mUs\u001b[0m\u001b[0;34m[\u001b[0m\u001b[0;34m:\u001b[0m\u001b[0;34m,\u001b[0m\u001b[0;36m4\u001b[0m\u001b[0;34m]\u001b[0m\u001b[0;34m,\u001b[0m \u001b[0mUs\u001b[0m\u001b[0;34m[\u001b[0m\u001b[0;34m:\u001b[0m\u001b[0;34m,\u001b[0m\u001b[0;36m5\u001b[0m\u001b[0;34m]\u001b[0m\u001b[0;34m,\u001b[0m \u001b[0mlabel\u001b[0m\u001b[0;34m=\u001b[0m\u001b[0;34m\"object three\"\u001b[0m\u001b[0;34m)\u001b[0m\u001b[0;34m\u001b[0m\u001b[0m\n",
      "\u001b[0;31mNameError\u001b[0m: name 'np' is not defined"
     ]
    }
   ],
   "source": [
    "ts = np.linspace(0,100,5000)\n",
    "Us = integrate.odeint(func, Z_arr, ts, tfirst=True)\n",
    "plt.plot(Us[:,0], Us[:,1], label=\"object one\")\n",
    "plt.plot(Us[:,2], Us[:,3], label=\"object two\")\n",
    "plt.plot(Us[:,4], Us[:,5], label=\"object three\")\n",
    "plt.xlabel('position in x')\n",
    "plt.ylabel('Position in Y')\n",
    "plt.title('Graph of Particle Mass Motion')\n",
    "plt.legend()"
   ]
  },
  {
   "cell_type": "code",
   "execution_count": 21,
   "metadata": {},
   "outputs": [
    {
     "data": {
      "image/png": "[encoded data removed]",
      "text/plain": [
       "<Figure size 504x504 with 1 Axes>"
      ]
     },
     "metadata": {},
     "output_type": "display_data"
    }
   ],
   "source": [
    "from matplotlib.animation import FuncAnimation\n",
    "\n",
    "r = integrate.ode(func).set_integrator('dopri5', nsteps=500,max_step = 50000,method='bdf')\n",
    "r.set_initial_value(Z_arr, 0)\n",
    "\n",
    "t1 = 100\n",
    "dt = 0.66\n",
    "\n",
    "posits = r.integrate(dt)[:(2*n)]\n",
    "pos_x = [posits[i] for i in range(0,len(posits), 2)]\n",
    "pos_y = [posits[i] for i in range(1,len(posits), 2)]\n",
    "    \n",
    "    \n",
    "fig = plt.figure(figsize=(7, 7))\n",
    "ax = fig.add_axes([0, 0, 1, 1], frameon=False)\n",
    "ax.set_xlim(-60, 60), ax.set_xticks([])\n",
    "ax.set_ylim(-60, 60), ax.set_yticks([])\n",
    "\n",
    "scat, = ax.plot(pos_x,pos_y,'r.',lw=2)\n",
    "\n",
    "def update(frame):\n",
    "    posits = r.integrate(r.t+dt)[:(2*n)]\n",
    "    pos_x = [posits[i] for i in range(0,len(posits), 2)]\n",
    "    pos_y = [posits[i] for i in range(1,len(posits), 2)]\n",
    "    scat.set_data(pos_x,pos_y)\n",
    "    #scat.set_sizes(M_arr)\n",
    "    return scat\n",
    "\n",
    "\n",
    "# Construct the animation, using the update function as the animation\n",
    "# director.\n",
    "animation = FuncAnimation(fig, update, interval=5)\n",
    "plt.show()\n",
    "\n",
    "#might have to change this line so that it runs on your computer. I could not get ffmpeg installed and working so videos are included in the repo\n",
    "animation.save('./tmp/movie.html', writer='html', codec='rawvideo')\n"
   ]
  },
  {
   "cell_type": "code",
   "execution_count": null,
   "metadata": {
    "collapsed": true
   },
   "outputs": [],
   "source": []
  },
  {
   "cell_type": "code",
   "execution_count": 80,
   "metadata": {
    "collapsed": true
   },
   "outputs": [],
   "source": []
  },
  {
   "cell_type": "code",
   "execution_count": 85,
   "metadata": {},
   "outputs": [
    {
     "data": {
      "text/plain": [
       "array([1, 2, 3])"
      ]
     },
     "execution_count": 85,
     "metadata": {},
     "output_type": "execute_result"
    }
   ],
   "source": []
  },
  {
   "cell_type": "code",
   "execution_count": null,
   "metadata": {
    "collapsed": true
   },
   "outputs": [],
   "source": []
  }
 ],
 "metadata": {
  "kernelspec": {
   "display_name": "Python 3",
   "language": "python",
   "name": "python3"
  },
  "language_info": {
   "codemirror_mode": {
    "name": "ipython",
    "version": 3
   },
   "file_extension": ".py",
   "mimetype": "text/x-python",
   "name": "python",
   "nbconvert_exporter": "python",
   "pygments_lexer": "ipython3",
   "version": "3.7.0"
  }
 },
 "nbformat": 4,
 "nbformat_minor": 2
}
