{
 "cells": [
  {
   "cell_type": "code",
   "execution_count": 5,
   "metadata": {},
   "outputs": [],
   "source": [
    "import numpy as np\n",
    "from qutip import * \n",
    "from scipy import *\n"
   ]
  },
  {
   "cell_type": "markdown",
   "metadata": {},
   "source": [
    "## Qutip functions"
   ]
  },
  {
   "cell_type": "markdown",
   "metadata": {},
   "source": [
    "function **oplst**:\n",
    "- Input: N (integer) \n",
    "- Output: an array of $N$ $2$x$2$ Identity matrices"
   ]
  },
  {
   "cell_type": "code",
   "execution_count": 6,
   "metadata": {},
   "outputs": [],
   "source": [
    "def oplst(N): return [qeye(2)for n in range(N)]"
   ]
  },
  {
   "cell_type": "markdown",
   "metadata": {},
   "source": [
    "function **I**:\n",
    "- Input: N (integer)\n",
    "- Output: returns the Tensor products of $N$ $2$x$2$ identity matrices\n",
    "   "
   ]
  },
  {
   "cell_type": "code",
   "execution_count": 7,
   "metadata": {},
   "outputs": [],
   "source": [
    "def I(N): return tensor(oplst(N))"
   ]
  },
  {
   "cell_type": "code",
   "execution_count": 8,
   "metadata": {},
   "outputs": [
    {
     "name": "stdout",
     "output_type": "stream",
     "text": [
      "test_I <class 'qutip.qobj.Qobj'> Quantum object: dims = [[2, 2], [2, 2]], shape = (4, 4), type = oper, isherm = True\n",
      "Qobj data =\n",
      "[[1. 0. 0. 0.]\n",
      " [0. 1. 0. 0.]\n",
      " [0. 0. 1. 0.]\n",
      " [0. 0. 0. 1.]]\n"
     ]
    }
   ],
   "source": [
    "test_I = I(2)\n",
    "print('test_I', type(test_I), test_I)"
   ]
  },
  {
   "cell_type": "markdown",
   "metadata": {},
   "source": [
    "functions **Sx, Sy, Sz**:\n",
    "- input: N (integer), j (integer)\n",
    "- output: The tensor product of an array of $N$ $2$x$2$ identity matrices, where the $j^{th}$ element is sigmax, sigmay or sigmaz"
   ]
  },
  {
   "cell_type": "code",
   "execution_count": 9,
   "metadata": {},
   "outputs": [],
   "source": [
    "def Sx(N, j): op = oplst(N); op[j] = sigmax(); return tensor(op)\n",
    "def Sy(N, j): op = oplst(N); op[j] = sigmay(); return tensor(op)\n",
    "def Sz(N, j): op = oplst(N); op[j] = sigmaz(); return tensor(op)"
   ]
  },
  {
   "cell_type": "code",
   "execution_count": null,
   "metadata": {},
   "outputs": [],
   "source": []
  },
  {
   "cell_type": "markdown",
   "metadata": {},
   "source": [
    "function **Heisenberg_Ising**:\n",
    "- input: h (integer): magnetic field strength\n",
    "- input: J (integer): inter-particle coupling factor\n",
    "- input: N (integer): Number of particles in system\n",
    "- output: H (array): Hamiltonian\n",
    "\n",
    "### Notes: \n",
    "- q: particles aligned against x axis\n",
    "- q: magnetic field aligned against z axis"
   ]
  },
  {
   "cell_type": "code",
   "execution_count": 10,
   "metadata": {},
   "outputs": [],
   "source": [
    "def Ising(h, J, N, print_Ising=False):\n",
    "    \n",
    "    H = -0.5*h*sum([Sz(N, j) for j in range(0, N)])\n",
    "    # H is now a Quantum object since we have taken the sum of tensors\n",
    "    if print_Ising: print('H0: ', H)\n",
    "    \n",
    "    H  -= 0.5*J*sum([Sx(N, n)*Sx(N, n+1) for n in range(0, N-1)])\n",
    "    if print_Ising: print('H1: ', H)\n",
    "    if print_Ising: print('Ising funct:\\nH:', type(H), H)\n",
    "        \n",
    "    return H\n",
    "def Ising(h, J, N,  print_Ising=False) :\n",
    "    H  = -0.5*h*sum([Sz(N, n) for n in range(0, N)])\n",
    "    H  -= 0.5*J*sum([Sx(N, n)*Sx(N, n+1) for n in range(0, N-1)])\n",
    "    return H"
   ]
  },
  {
   "cell_type": "code",
   "execution_count": 11,
   "metadata": {},
   "outputs": [],
   "source": [
    "test_Ising = Ising(.5, .5, 1, True)"
   ]
  },
  {
   "cell_type": "markdown",
   "metadata": {},
   "source": [
    "function **evolve**:\n",
    "- input: psi0          [Qobj]\n",
    "- input: H             [Qobj]\n",
    "- input: times         []\n",
    "- input: res           [int]\n",
    "- input: measurement   [function]\n",
    "- input initial:       [list]\n",
    "evolve func: psi0: <class 'qutip.qobj.Qobj'>\n",
    "evolve func: H: <class 'qutip.qobj.Qobj'>\n",
    "evolve func: times: <class 'numpy.ndarray'>\n",
    "evolve func: res: <class 'int'>\n",
    "evolve func: measurement: <class 'function'>\n",
    "evolve func: initial: <class 'list'>"
   ]
  },
  {
   "cell_type": "code",
   "execution_count": 12,
   "metadata": {},
   "outputs": [],
   "source": [
    "def evolve(psi0, H, times, res, measurement, initial):\n",
    "    '''\n",
    "    print('evolve func: psi0:', type(psi0), psi0)\n",
    "    print('evolve func: H:', type(H), H)\n",
    "    print('evolve func: times:', type(times), times)\n",
    "    print('evolve func: res:', type(res), res)\n",
    "    print('evolve func: measurement:', type(measurement), measurement)\n",
    "    print('evolve func: initial:', type(initial), initial)\n",
    "    '''\n",
    "    measurements = initial\n",
    "    # print('measurements', type(measurements), measurements)\n",
    "    def meas(t, psi):\n",
    "        # print('meas func: t', t)\n",
    "        # print('meas func psi:', psi)\n",
    "        measurement(t, psi, measurements)\n",
    "        # mesolve qutip func:  calculates the unitary (non-dissipitative) time-evolution of an arbitrary\n",
    "        # state vector psi0. It evolves the state vector and evalutates the expectation values for \n",
    "        # a set of operators expt_ops at the points in time in the list \"times\", using an ordinary differential\n",
    "        # equation solver\n",
    "        # q: alternatively, we can use the exponential-series technique qutip.essolve\n",
    "        # H:\n",
    "        # psi0:\n",
    "        # times:\n",
    "        # []: an empty list of collapse operators (because we consider unitary evolution)\n",
    "        # solver_result.expect: list of expectation values for the operators that are included in the list\n",
    "        # list in the fifth argument\n",
    "        # solver_rest.states\n",
    "    mesolve(H, psi0, times, [], meas)\n",
    "    # essolve(H, psi0, times, [], meas)\n",
    "\n",
    "    print('evolve func: mesolve', type(mesolve), mesolve)\n",
    "    return measurements"
   ]
  },
  {
   "cell_type": "code",
   "execution_count": null,
   "metadata": {},
   "outputs": [],
   "source": []
  },
  {
   "cell_type": "code",
   "execution_count": null,
   "metadata": {},
   "outputs": [],
   "source": []
  },
  {
   "cell_type": "markdown",
   "metadata": {},
   "source": [
    "# IBM Q functions"
   ]
  },
  {
   "cell_type": "markdown",
   "metadata": {},
   "source": [
    "functions **rx, ry, rz**:\n",
    "- input: circ\n",
    "- input: q\n",
    "- input: tau\n",
    "- output: *None*\n",
    "### questions: \n",
    "- performing U3 (or U1) gates on circuit ```circ```\n",
    "- what is tau?\n",
    "- what is q?"
   ]
  },
  {
   "cell_type": "code",
   "execution_count": 13,
   "metadata": {},
   "outputs": [],
   "source": [
    "def rx(circ, q, tau): circ.u3(2.*tau, 3.*np.pi/2., np.pi/2., q)\n",
    "def ry(circ, q, tau): circ.u3(2.*tau, 0., 0., q)\n",
    "def rz(circ, q, tau): circ.u1(2.*tau, q)"
   ]
  },
  {
   "cell_type": "markdown",
   "metadata": {},
   "source": [
    "function **rxx**:\n",
    "- input: circ (circuit)\n",
    "- input: q1\n",
    "- input: q2\n",
    "- input: tau\n",
    "- output: *None*\n",
    "### questions\n",
    "- performing rxx does what exactly?"
   ]
  },
  {
   "cell_type": "code",
   "execution_count": 14,
   "metadata": {},
   "outputs": [],
   "source": [
    "def rxx(circ, q1, q2, tau):\n",
    "    circ.cx(q1, q2)   # perform CNOT gate with q1 as control and q2 as target\n",
    "    rx(circ, q1, tau)\n",
    "    circ.cx(q1, q2)"
   ]
  },
  {
   "cell_type": "markdown",
   "metadata": {},
   "source": [
    "function **isingStep**:\n",
    "- input: circ\n",
    "- input: q\n",
    "- input: tau\n",
    "- input: h\n",
    "- input: J\n",
    "### questions \n",
    "- how does this \"evolving\" work? can we visualize it?"
   ]
  },
  {
   "cell_type": "code",
   "execution_count": 15,
   "metadata": {},
   "outputs": [],
   "source": [
    "''' def isingStep(circ, q, tau, h, J):\n",
    "    for i in range(len(q)):\n",
    "        # q: adjust for magnetic field h?\n",
    "        # q: for each qubit?\n",
    "        rz(circ, q[i], -.5* h * tau)\n",
    "        # q: where does tau come from\n",
    "    for j in range(len(q) - 1):\n",
    "        # adjust for inter-particle interactions?\n",
    "        rxx(circ, q[i], q[i + 1], -.5 * J * tau)\n",
    "'''\n",
    "def isingStep(circ, q, tau, h, J) :\n",
    "    for i in range(len(q)) :\n",
    "        rz(circ, q[i], -.5*h*tau)\n",
    "    for i in range(len(q)-1) :\n",
    "        rxx(circ, q[i], q[i+1], -.5*J*tau)\n",
    "    "
   ]
  },
  {
   "cell_type": "markdown",
   "metadata": {},
   "source": [
    "function **isingTrotter**(circ, qs, tau, steps, h, J):\n",
    "- input: circ\n",
    "- input: qs\n",
    "- input: tau\n",
    "- input: steps\n",
    "- input: h\n",
    "- input: J\n",
    "- output: *None*\n",
    "### questions\n",
    "- this is \"the money shot\"\n",
    "- we essentially call isingTrotter, set k (or steps), and let it do its job\n",
    "- t = tau when calling isingStep.. mathematical explanation"
   ]
  },
  {
   "cell_type": "code",
   "execution_count": 16,
   "metadata": {},
   "outputs": [],
   "source": [
    "def isingTrotter(circ, qs, tau, steps, h, J) :\n",
    "    t = np.float(tau)/np.float(steps)\n",
    "    for step in range(steps) :\n",
    "        isingStep(circ, qs, t, h, J)"
   ]
  },
  {
   "cell_type": "code",
   "execution_count": null,
   "metadata": {},
   "outputs": [],
   "source": []
  },
  {
   "cell_type": "markdown",
   "metadata": {},
   "source": [
    "function **confs**:\n",
    "- input: counts\n",
    "- input: N\n",
    "- output:\n",
    "### questions\n",
    "- unclear on this "
   ]
  },
  {
   "cell_type": "code",
   "execution_count": 17,
   "metadata": {},
   "outputs": [],
   "source": [
    "def confs(counts, N) :\n",
    "    _counts = {}\n",
    "    for n in range(2**N) :\n",
    "        config = [int(x) for x in bin(n)[2:]]\n",
    "        for i in range(N - len(config)) :\n",
    "            config = [0] + config\n",
    "        config = ''.join(map(str, config))\n",
    "        if config not in counts.keys() :\n",
    "            _counts[config] = 0\n",
    "        else :\n",
    "            _counts[config] = counts[config]\n",
    "    return _counts"
   ]
  },
  {
   "cell_type": "code",
   "execution_count": 18,
   "metadata": {},
   "outputs": [
    {
     "data": {
      "text/plain": [
       "\" a = bin(2)\\nprint(type(a), a)\\nN = 4\\nfor n in range(2**N):\\n    config = [int(x) for x in bin(n)[2:]]\\n    print('\\n===',n,config)\\n    for i in range(N - len(config)):\\n        config = ''.join(map(str, config))\\n        print('second\\n', n ,config)\\n\""
      ]
     },
     "execution_count": 18,
     "metadata": {},
     "output_type": "execute_result"
    }
   ],
   "source": [
    "''' a = bin(2)\n",
    "print(type(a), a)\n",
    "N = 4\n",
    "for n in range(2**N):\n",
    "    config = [int(x) for x in bin(n)[2:]]\n",
    "    print('\\n===',n,config)\n",
    "    for i in range(N - len(config)):\n",
    "        config = ''.join(map(str, config))\n",
    "        print('second\\n', n ,config)\n",
    "'''"
   ]
  },
  {
   "cell_type": "code",
   "execution_count": null,
   "metadata": {},
   "outputs": [],
   "source": []
  },
  {
   "cell_type": "code",
   "execution_count": null,
   "metadata": {},
   "outputs": [],
   "source": []
  },
  {
   "cell_type": "code",
   "execution_count": null,
   "metadata": {},
   "outputs": [],
   "source": []
  }
 ],
 "metadata": {
  "kernelspec": {
   "display_name": "Python 3",
   "language": "python",
   "name": "python3"
  },
  "language_info": {
   "codemirror_mode": {
    "name": "ipython",
    "version": 3
   },
   "file_extension": ".py",
   "mimetype": "text/x-python",
   "name": "python",
   "nbconvert_exporter": "python",
   "pygments_lexer": "ipython3",
   "version": "3.7.3"
  }
 },
 "nbformat": 4,
 "nbformat_minor": 2
}
