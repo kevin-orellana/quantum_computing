{
 "cells": [
  {
   "cell_type": "code",
   "execution_count": 1,
   "metadata": {},
   "outputs": [],
   "source": [
    "import matplotlib\n",
    "import matplotlib.pyplot "
   ]
  },
  {
   "cell_type": "code",
   "execution_count": 2,
   "metadata": {},
   "outputs": [],
   "source": [
    "def plot(axes, title, data, ticks=None, tlabels=None):\n",
    "    ts, ys, labels, colors = data\n",
    "    axes.set_title(title)\n",
    "    axes.grid(True)\n",
    "    for t, y, label, color in zip(ts, ys, labels, colors):\n",
    "        axes.plot(t, y, label=label, color=color)\n",
    "    lst = list(set(labels))\n",
    "    if not (len(lst) == 1) and lst[0] is None:\n",
    "        axes.legend()\n",
    "    if ticks is not None and tlabels is not None:\n",
    "        axes.set_xticks(ticks)\n",
    "        axes.set_xticklabels(tlabels)"
   ]
  },
  {
   "cell_type": "code",
   "execution_count": 3,
   "metadata": {},
   "outputs": [],
   "source": [
    "def bar(axes, title, data, ticks=None, tlabels=None):\n",
    "    xss, xms, ths, colors, zs=data\n",
    "    axes.set_title(title)\n",
    "    axes.grid(zorder=0)\n",
    "    for xs, xm, th, color, z in zip(xxs, xms, ths, colors, zs):\n",
    "        axes.bar(xs, xm, th, color=color, zorder=z)\n",
    "    if ticks is not None and tlabels is not None:\n",
    "        axes.set_xticks(ticks)\n",
    "        axes.set_xticklabels(tlabels)\n",
    "        "
   ]
  },
  {
   "cell_type": "code",
   "execution_count": null,
   "metadata": {},
   "outputs": [],
   "source": []
  }
 ],
 "metadata": {
  "kernelspec": {
   "display_name": "Python 3",
   "language": "python",
   "name": "python3"
  },
  "language_info": {
   "codemirror_mode": {
    "name": "ipython",
    "version": 3
   },
   "file_extension": ".py",
   "mimetype": "text/x-python",
   "name": "python",
   "nbconvert_exporter": "python",
   "pygments_lexer": "ipython3",
   "version": "3.7.3"
  }
 },
 "nbformat": 4,
 "nbformat_minor": 2
}
