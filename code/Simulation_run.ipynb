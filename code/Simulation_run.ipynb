{
 "cells": [
  {
   "cell_type": "code",
   "execution_count": 30,
   "metadata": {},
   "outputs": [],
   "source": [
    "import matplotlib\n",
    "import matplotlib.pyplot\n",
    "import numpy as np\n",
    "\n",
    "# utilities for importing from other Jupyter notebooks\n",
    "import custom_utilities\n",
    "\n",
    "# import code from the other Jupyter notebook\n",
    "from Plotting import plot\n",
    "\n",
    "from qutip import *\n",
    "from scipy import *\n",
    "from qiskit import QuantumCircuit, QuantumRegister, ClassicalRegister, execute, BasicAer\n",
    "from QuantumMechanics import Ising, evolve, isingTrotter, confs"
   ]
  },
  {
   "cell_type": "markdown",
   "metadata": {},
   "source": [
    "function **spinket**:\n",
    "- input: conf\n",
    "- output: tensor of\n",
    "### questions\n",
    "- what is conf? what is psilist?\n",
    "#### basis(2, n):  does what? "
   ]
  },
  {
   "cell_type": "code",
   "execution_count": 31,
   "metadata": {},
   "outputs": [],
   "source": [
    "def spinket(conf):\n",
    "    psi_list = [basis(2, n) for n in conf]\n",
    "    return tensor(psi_list)"
   ]
  },
  {
   "cell_type": "markdown",
   "metadata": {},
   "source": [
    "# Input parameters for simulation"
   ]
  },
  {
   "cell_type": "code",
   "execution_count": 32,
   "metadata": {},
   "outputs": [
    {
     "name": "stdout",
     "output_type": "stream",
     "text": [
      "N 4\n",
      "t_max 6.283185307179586\n",
      "res 60\n",
      "times <class 'numpy.ndarray'> [0.         0.10649467 0.21298933 0.319484   0.42597866 0.53247333\n",
      " 0.638968   0.74546266 0.85195733 0.958452   1.06494666 1.17144133\n",
      " 1.27793599 1.38443066 1.49092533 1.59741999 1.70391466 1.81040933\n",
      " 1.91690399 2.02339866 2.12989332 2.23638799 2.34288266 2.44937732\n",
      " 2.55587199 2.66236666 2.76886132 2.87535599 2.98185065 3.08834532\n",
      " 3.19483999 3.30133465 3.40782932 3.51432399 3.62081865 3.72731332\n",
      " 3.83380798 3.94030265 4.04679732 4.15329198 4.25978665 4.36628132\n",
      " 4.47277598 4.57927065 4.68576531 4.79225998 4.89875465 5.00524931\n",
      " 5.11174398 5.21823864 5.32473331 5.43122798 5.53772264 5.64421731\n",
      " 5.75071198 5.85720664 5.96370131 6.07019597 6.17669064 6.28318531]\n",
      "h 0.44644535640342586\n",
      "J 0.7779603029681459\n"
     ]
    }
   ],
   "source": [
    "# size of system, number of particles, number of qubits\n",
    "N = 4\n",
    "print('N', N)\n",
    "\n",
    "# q: maximum \"time\" to pass\n",
    "t_max = 2.*np.pi\n",
    "print('t_max', t_max)\n",
    "\n",
    "# q: res \n",
    "res = 60\n",
    "print('res', res)\n",
    "\n",
    "# q: times? array of $res$ numbers from 0 to t_max\n",
    "times = np.linspace(0.0, t_max, res)\n",
    "print('times', type(times), times)\n",
    "\n",
    "# strength of transverse magnetic field \n",
    "h = np.random.uniform(-1., 1.)\n",
    "print('h', h)\n",
    "\n",
    "# interparticle magnetic coupling strength\n",
    "J = np.random.uniform(-1., 1.)\n",
    "print('J', J)\n",
    "\n",
    "# 'at which (discrete) evolution time steps we wish to compare QuTip and IBM Q'\n",
    "timesteps = []\n",
    "\n",
    "# continuous time evolution using QuTip\n",
    "H = Ising(h, J, N)\n",
    "\n",
    "# prepare initial state and measured states\n",
    "psi0 = tensor([basis(2, 0) for i in range(N)])"
   ]
  },
  {
   "cell_type": "markdown",
   "metadata": {},
   "source": []
  },
  {
   "cell_type": "code",
   "execution_count": null,
   "metadata": {},
   "outputs": [],
   "source": []
  },
  {
   "cell_type": "markdown",
   "metadata": {},
   "source": [
    "function **measurement**:\n",
    "- input: t\n",
    "- input: psi\n",
    "- input: previous\n",
    "\n",
    "### question:\n",
    "- this function requires ```N``` to be in scope. Let's fix this to be self-contained\n"
   ]
  },
  {
   "cell_type": "code",
   "execution_count": 33,
   "metadata": {},
   "outputs": [],
   "source": [
    "def measurement(t, psi, previous) :\n",
    "    i = previous[0]\n",
    "    previous[0] += 1\n",
    "    for n in range(2**N) :\n",
    "        conf = [int(x) for x in bin(n)[2:]]\n",
    "        for j in range(N - len(conf)) :\n",
    "            conf = [0] + conf\n",
    "        psin = spinket(conf)\n",
    "        previous[n+1][i] = np.power(np.abs((psin.dag()*psi).full()[0][0]), 2.)\n",
    "        # q: raise something to the power of 2"
   ]
  },
  {
   "cell_type": "code",
   "execution_count": null,
   "metadata": {},
   "outputs": [],
   "source": []
  },
  {
   "cell_type": "markdown",
   "metadata": {},
   "source": [
    "### perform the time evolution using QuTip"
   ]
  },
  {
   "cell_type": "code",
   "execution_count": 34,
   "metadata": {},
   "outputs": [
    {
     "name": "stdout",
     "output_type": "stream",
     "text": [
      "evolve func: mesolve <class 'function'> <function mesolve at 0x1136ea378>\n",
      "results [60, array([1.        , 0.99486771, 0.97965698, 0.95491595, 0.92152454,\n",
      "       0.88064643, 0.83366649, 0.78211798, 0.72760423, 0.67172014,\n",
      "       0.61597832, 0.56174446, 0.5101856 , 0.46223385, 0.41856703,\n",
      "       0.37960616, 0.34552869, 0.31629522, 0.29168641, 0.2713465 ,\n",
      "       0.25482931, 0.24164288, 0.23128929, 0.22329685, 0.21724284,\n",
      "       0.21276582, 0.2095679 , 0.20740794, 0.20608784, 0.20543443,\n",
      "       0.20527988, 0.20544362, 0.20571839, 0.20586263, 0.20560054,\n",
      "       0.2046303 , 0.20264022, 0.1993313 , 0.19444431, 0.18778871,\n",
      "       0.17927045, 0.16891565, 0.15688758, 0.14349453, 0.12918733,\n",
      "       0.11454577, 0.10025446, 0.08706948, 0.07577793, 0.06715348,\n",
      "       0.06191103, 0.06066411, 0.06388821, 0.07189304, 0.08480564,\n",
      "       0.10256596, 0.12493476, 0.15151322, 0.18177262, 0.21509128]), array([0., 0., 0., 0., 0., 0., 0., 0., 0., 0., 0., 0., 0., 0., 0., 0., 0.,\n",
      "       0., 0., 0., 0., 0., 0., 0., 0., 0., 0., 0., 0., 0., 0., 0., 0., 0.,\n",
      "       0., 0., 0., 0., 0., 0., 0., 0., 0., 0., 0., 0., 0., 0., 0., 0., 0.,\n",
      "       0., 0., 0., 0., 0., 0., 0., 0., 0.]), array([0., 0., 0., 0., 0., 0., 0., 0., 0., 0., 0., 0., 0., 0., 0., 0., 0.,\n",
      "       0., 0., 0., 0., 0., 0., 0., 0., 0., 0., 0., 0., 0., 0., 0., 0., 0.,\n",
      "       0., 0., 0., 0., 0., 0., 0., 0., 0., 0., 0., 0., 0., 0., 0., 0., 0.,\n",
      "       0., 0., 0., 0., 0., 0., 0., 0., 0.]), array([0.        , 0.00170783, 0.00673453, 0.01479665, 0.02544433,\n",
      "       0.03809322, 0.05206542, 0.0666364 , 0.0810838 , 0.09473467,\n",
      "       0.10700716, 0.11744367, 0.12573311, 0.13172071, 0.1354051 ,\n",
      "       0.1369234 , 0.13652597, 0.13454348, 0.1313494 , 0.12732152,\n",
      "       0.12280587, 0.1180865 , 0.11336345, 0.10874104, 0.10422714,\n",
      "       0.09974333, 0.09514475, 0.09024751, 0.08486088, 0.07882103,\n",
      "       0.07202286, 0.06444663, 0.05617671, 0.04741014, 0.03845401,\n",
      "       0.02971137, 0.02165657, 0.01480193, 0.00965829, 0.00669293,\n",
      "       0.00628834, 0.00870535, 0.01405419, 0.0222759 , 0.03313617,\n",
      "       0.04623226, 0.06101293, 0.07681004, 0.09287935, 0.10844768,\n",
      "       0.12276266, 0.13514123, 0.14501318, 0.15195634, 0.15572077,\n",
      "       0.15624014, 0.15362967, 0.148171  , 0.14028534, 0.13049746]), array([0., 0., 0., 0., 0., 0., 0., 0., 0., 0., 0., 0., 0., 0., 0., 0., 0.,\n",
      "       0., 0., 0., 0., 0., 0., 0., 0., 0., 0., 0., 0., 0., 0., 0., 0., 0.,\n",
      "       0., 0., 0., 0., 0., 0., 0., 0., 0., 0., 0., 0., 0., 0., 0., 0., 0.,\n",
      "       0., 0., 0., 0., 0., 0., 0., 0., 0.]), array([0.00000000e+00, 2.93466406e-06, 4.64833747e-05, 2.31393712e-04,\n",
      "       7.14261380e-04, 1.69159547e-03, 3.37949961e-03, 5.99075345e-03,\n",
      "       9.71131214e-03, 1.46783075e-02, 2.09615159e-02, 2.85499714e-02,\n",
      "       3.73449829e-02, 4.71602716e-02, 5.77293522e-02, 6.87196703e-02,\n",
      "       7.97524434e-02, 9.04266718e-02, 1.00345442e-01, 1.09142444e-01,\n",
      "       1.16506623e-01, 1.22203024e-01, 1.26088210e-01, 1.28119109e-01,\n",
      "       1.28354635e-01, 1.26950078e-01, 1.24144790e-01, 1.20244275e-01,\n",
      "       1.15598174e-01, 1.10575988e-01, 1.05542484e-01, 1.00834715e-01,\n",
      "       9.67424250e-02, 9.34932099e-02, 9.12434262e-02, 9.00752798e-02,\n",
      "       8.99999782e-02, 9.09663184e-02, 9.28736141e-02, 9.55875213e-02,\n",
      "       9.89571038e-02, 1.02831429e-01, 1.07074084e-01, 1.11574244e-01,\n",
      "       1.16253297e-01, 1.21066512e-01, 1.25999708e-01, 1.31061416e-01,\n",
      "       1.36271469e-01, 1.41647329e-01, 1.47189692e-01, 1.52869021e-01,\n",
      "       1.58614590e-01, 1.64307401e-01, 1.69778007e-01, 1.74809801e-01,\n",
      "       1.79147851e-01, 1.82512783e-01, 1.84618805e-01, 1.85194356e-01]), array([0.        , 0.00170783, 0.00673439, 0.01479507, 0.02543567,\n",
      "       0.03806104, 0.05197248, 0.06641106, 0.08060412, 0.09381158,\n",
      "       0.1053692 , 0.1147258 , 0.12147228, 0.12536065, 0.1263123 ,\n",
      "       0.12441524, 0.11991114, 0.11317337, 0.1046781 , 0.09497078,\n",
      "       0.08463048, 0.07423479, 0.06432751, 0.05539121, 0.04782616,\n",
      "       0.04193649, 0.03792397, 0.0358889 , 0.03583744, 0.03769393,\n",
      "       0.04131661, 0.04651517, 0.05306812, 0.0607389 , 0.06928907,\n",
      "       0.07848812, 0.08811946, 0.09798264, 0.10789239, 0.11767536,\n",
      "       0.12716556, 0.13619979, 0.144614  , 0.15224178, 0.15891537,\n",
      "       0.16446965, 0.16874901, 0.17161645, 0.17296426, 0.172725  ,\n",
      "       0.17088154, 0.1674749 , 0.16260872, 0.15644937, 0.14922121,\n",
      "       0.14119683, 0.13268272, 0.12400112, 0.11546929, 0.10737798]), array([0., 0., 0., 0., 0., 0., 0., 0., 0., 0., 0., 0., 0., 0., 0., 0., 0.,\n",
      "       0., 0., 0., 0., 0., 0., 0., 0., 0., 0., 0., 0., 0., 0., 0., 0., 0.,\n",
      "       0., 0., 0., 0., 0., 0., 0., 0., 0., 0., 0., 0., 0., 0., 0., 0., 0.,\n",
      "       0., 0., 0., 0., 0., 0., 0., 0., 0.]), array([0., 0., 0., 0., 0., 0., 0., 0., 0., 0., 0., 0., 0., 0., 0., 0., 0.,\n",
      "       0., 0., 0., 0., 0., 0., 0., 0., 0., 0., 0., 0., 0., 0., 0., 0., 0.,\n",
      "       0., 0., 0., 0., 0., 0., 0., 0., 0., 0., 0., 0., 0., 0., 0., 0., 0.,\n",
      "       0., 0., 0., 0., 0., 0., 0., 0., 0.]), array([0.00000000e+00, 5.04072825e-09, 3.20333219e-07, 3.60578785e-06,\n",
      "       1.99259919e-05, 7.44044320e-05, 2.16436265e-04, 5.29141438e-04,\n",
      "       1.13760860e-03, 2.21449948e-03, 3.98175757e-03, 6.70747635e-03,\n",
      "       1.06974111e-02, 1.62811221e-02, 2.37932720e-02, 3.35511141e-02,\n",
      "       4.58296597e-02, 6.08363454e-02, 7.86872174e-02, 9.93866666e-02,\n",
      "       1.22812599e-01, 1.48708597e-01, 1.76684166e-01, 2.06223567e-01,\n",
      "       2.36703098e-01, 2.67416031e-01, 2.97603794e-01, 3.26491468e-01,\n",
      "       3.53325291e-01, 3.77409660e-01, 3.98141117e-01, 4.15036952e-01,\n",
      "       4.27756593e-01, 4.36114086e-01, 4.40081228e-01, 4.39781043e-01,\n",
      "       4.35472320e-01, 4.27526544e-01, 4.16399060e-01, 4.02596779e-01,\n",
      "       3.86644904e-01, 3.69055212e-01, 3.50298225e-01, 3.30781261e-01,\n",
      "       3.10833805e-01, 2.90701020e-01, 2.70545529e-01, 2.50456866e-01,\n",
      "       2.30467392e-01, 2.10572948e-01, 1.90756109e-01, 1.71009772e-01,\n",
      "       1.51358751e-01, 1.31877318e-01, 1.12700984e-01, 9.40313092e-02,\n",
      "       7.61332486e-02, 5.93250967e-02, 4.39617971e-02, 3.04129766e-02]), array([0.00000000e+00, 2.93466406e-06, 4.64833747e-05, 2.31393712e-04,\n",
      "       7.14261380e-04, 1.69159547e-03, 3.37949961e-03, 5.99075345e-03,\n",
      "       9.71131214e-03, 1.46783075e-02, 2.09615159e-02, 2.85499714e-02,\n",
      "       3.73449829e-02, 4.71602716e-02, 5.77293522e-02, 6.87196703e-02,\n",
      "       7.97524434e-02, 9.04266718e-02, 1.00345442e-01, 1.09142444e-01,\n",
      "       1.16506623e-01, 1.22203024e-01, 1.26088210e-01, 1.28119109e-01,\n",
      "       1.28354635e-01, 1.26950078e-01, 1.24144790e-01, 1.20244275e-01,\n",
      "       1.15598174e-01, 1.10575988e-01, 1.05542484e-01, 1.00834715e-01,\n",
      "       9.67424250e-02, 9.34932099e-02, 9.12434262e-02, 9.00752798e-02,\n",
      "       8.99999782e-02, 9.09663184e-02, 9.28736141e-02, 9.55875213e-02,\n",
      "       9.89571038e-02, 1.02831429e-01, 1.07074084e-01, 1.11574244e-01,\n",
      "       1.16253297e-01, 1.21066512e-01, 1.25999708e-01, 1.31061416e-01,\n",
      "       1.36271469e-01, 1.41647329e-01, 1.47189692e-01, 1.52869021e-01,\n",
      "       1.58614590e-01, 1.64307401e-01, 1.69778007e-01, 1.74809801e-01,\n",
      "       1.79147851e-01, 1.82512783e-01, 1.84618805e-01, 1.85194356e-01]), array([0., 0., 0., 0., 0., 0., 0., 0., 0., 0., 0., 0., 0., 0., 0., 0., 0.,\n",
      "       0., 0., 0., 0., 0., 0., 0., 0., 0., 0., 0., 0., 0., 0., 0., 0., 0.,\n",
      "       0., 0., 0., 0., 0., 0., 0., 0., 0., 0., 0., 0., 0., 0., 0., 0., 0.,\n",
      "       0., 0., 0., 0., 0., 0., 0., 0., 0.]), array([0.        , 0.00170783, 0.00673453, 0.01479665, 0.02544433,\n",
      "       0.03809322, 0.05206542, 0.0666364 , 0.0810838 , 0.09473467,\n",
      "       0.10700716, 0.11744367, 0.12573311, 0.13172071, 0.1354051 ,\n",
      "       0.1369234 , 0.13652597, 0.13454348, 0.1313494 , 0.12732152,\n",
      "       0.12280587, 0.1180865 , 0.11336345, 0.10874104, 0.10422714,\n",
      "       0.09974333, 0.09514475, 0.09024751, 0.08486088, 0.07882103,\n",
      "       0.07202286, 0.06444663, 0.05617671, 0.04741014, 0.03845401,\n",
      "       0.02971137, 0.02165657, 0.01480193, 0.00965829, 0.00669293,\n",
      "       0.00628834, 0.00870535, 0.01405419, 0.0222759 , 0.03313617,\n",
      "       0.04623226, 0.06101293, 0.07681004, 0.09287935, 0.10844768,\n",
      "       0.12276266, 0.13514123, 0.14501318, 0.15195634, 0.15572077,\n",
      "       0.15624014, 0.15362967, 0.148171  , 0.14028534, 0.13049746]), array([0., 0., 0., 0., 0., 0., 0., 0., 0., 0., 0., 0., 0., 0., 0., 0., 0.,\n",
      "       0., 0., 0., 0., 0., 0., 0., 0., 0., 0., 0., 0., 0., 0., 0., 0., 0.,\n",
      "       0., 0., 0., 0., 0., 0., 0., 0., 0., 0., 0., 0., 0., 0., 0., 0., 0.,\n",
      "       0., 0., 0., 0., 0., 0., 0., 0., 0.]), array([0., 0., 0., 0., 0., 0., 0., 0., 0., 0., 0., 0., 0., 0., 0., 0., 0.,\n",
      "       0., 0., 0., 0., 0., 0., 0., 0., 0., 0., 0., 0., 0., 0., 0., 0., 0.,\n",
      "       0., 0., 0., 0., 0., 0., 0., 0., 0., 0., 0., 0., 0., 0., 0., 0., 0.,\n",
      "       0., 0., 0., 0., 0., 0., 0., 0., 0.]), array([0.00000000e+00, 2.93171416e-06, 4.62961495e-05, 2.29290724e-04,\n",
      "       7.02674941e-04, 1.64850004e-03, 3.25474403e-03, 5.68751998e-03,\n",
      "       9.06382608e-03, 1.34278272e-02, 1.87333806e-02, 2.48349787e-02,\n",
      "       3.14885206e-02, 3.83624101e-02, 4.50584880e-02, 5.11413411e-02,\n",
      "       5.61736738e-02, 5.97547594e-02, 6.15585775e-02, 6.13681274e-02,\n",
      "       5.91026111e-02, 5.48346803e-02, 4.87957151e-02, 4.13680757e-02,\n",
      "       3.30643614e-02, 2.44948382e-02, 1.63252509e-02, 9.22812621e-03,\n",
      "       3.83132512e-03, 6.67949870e-04, 1.31716726e-04, 2.44156571e-03,\n",
      "       7.61861760e-03, 1.54776768e-02, 2.56342971e-02, 3.75272426e-02,\n",
      "       5.04548940e-02, 6.36230275e-02, 7.62004425e-02, 8.73782376e-02,\n",
      "       9.64281993e-02, 1.02755795e-01, 1.05943654e-01, 1.05782130e-01,\n",
      "       1.02284559e-01, 9.56860239e-02, 8.64257179e-02, 7.51142947e-02,\n",
      "       6.24887777e-02, 4.93585465e-02, 3.65466107e-02, 2.48307121e-02,\n",
      "       1.48887694e-02, 7.25278542e-03, 2.27461738e-03, 1.06019479e-04,\n",
      "       6.94219127e-04, 3.79299099e-03, 8.98800934e-03, 1.57341250e-02])]\n"
     ]
    }
   ],
   "source": [
    "initial = [0] + [np.zeros(res) for i in range(2**N)]\n",
    "# 2^N array of res-long zero arrays\n",
    "\n",
    "# print('initial:', initial)\n",
    "results = evolve(psi0, H, times, res, measurement, initial)\n",
    "print('results', results)"
   ]
  },
  {
   "cell_type": "code",
   "execution_count": 35,
   "metadata": {},
   "outputs": [
    {
     "name": "stdout",
     "output_type": "stream",
     "text": [
      "<class 'list'>\n"
     ]
    }
   ],
   "source": [
    "print(type(results))"
   ]
  },
  {
   "cell_type": "markdown",
   "metadata": {},
   "source": [
    "### run the simulation using IBM Q\n"
   ]
  },
  {
   "cell_type": "code",
   "execution_count": 36,
   "metadata": {},
   "outputs": [],
   "source": [
    "def run_simulation1():\n",
    "    # IBM Q\n",
    "    for measure_step in [int(floor(i))for i in linspace(0., res, 3, endpoint=False)] :\n",
    "        tau = times[measure_step]\n",
    "        shots = 2048                            \n",
    "        q = QuantumRegister(4, 'q')             #(size, name)\n",
    "        c = ClassicalRegister(4, 'c')           # \n",
    "        circ = QuantumCircuit(q)\n",
    "        isingTrotter(circ, q, tau, 800, h, J)\n",
    "        meas = QuantumCircuit(q, c)\n",
    "        meas.barrier(q)\n",
    "        meas.measure(q, c)\n",
    "        qc = circ+meas\n",
    "        job = execute(qc, backend = BasicAer.get_backend('qasm_simulator'), shots=shots, seed=8)\n",
    "        result = job.result()\n",
    "        counts = result.get_counts(qc)\n",
    "        counts = confs(counts, N)\n",
    "        print('measure_step', measure_step, 'tau', tau)\n",
    "        print('\\ntime step: ' + str(measure_step))\n",
    "        print('{0:7} {1:7} {2:7}'.format('', 'IBM-Q', 'QuTip','diff'))\n",
    "        ibmq_total_probability = 0\n",
    "        qutip_total_probability = 0\n",
    "        for i in range(2**N) :\n",
    "            conf = [int(x) for x in bin(i)[2:]]\n",
    "            # print('conf', conf)\n",
    "            for j in range(N - len(conf)) :\n",
    "                conf = [0] + conf\n",
    "            txt = ''.join(map(str, conf))\n",
    "            ibmq_val = np.round(np.float(counts[txt])/np.float(shots), 3)\n",
    "            qutip_val = np.round(results[i+1][measure_step], 3)\n",
    "            diff = np.round((ibmq_val - qutip_val), 3)\n",
    "            \n",
    "            # verify the probabilities add up to 0\n",
    "            ibmq_total_probability += ibmq_val\n",
    "            qutip_total_probability += qutip_val\n",
    "            \n",
    "            # print results\n",
    "            print('{0:7} {1:7} {2:7} {3:7}'.format('|'+txt+'>', str(ibmq_val), qutip_val, diff))\n",
    "        print('ibmq prob', ibmq_total_probability)\n",
    "        print('qutip prob', qutip_total_probability)\n"
   ]
  },
  {
   "cell_type": "code",
   "execution_count": 38,
   "metadata": {},
   "outputs": [
    {
     "name": "stdout",
     "output_type": "stream",
     "text": [
      "tau 0.0 measure_step 0 res 60 \n",
      "\n",
      "time step: 0\n",
      "        IBM-Q   QuTip  \n",
      "|0000>  1.0         1.0     0.0\n",
      "|0001>  0.0         0.0     0.0\n",
      "|0010>  0.0         0.0     0.0\n",
      "|0011>  0.0         0.0     0.0\n",
      "|0100>  0.0         0.0     0.0\n",
      "|0101>  0.0         0.0     0.0\n",
      "|0110>  0.0         0.0     0.0\n",
      "|0111>  0.0         0.0     0.0\n",
      "|1000>  0.0         0.0     0.0\n",
      "|1001>  0.0         0.0     0.0\n",
      "|1010>  0.0         0.0     0.0\n",
      "|1011>  0.0         0.0     0.0\n",
      "|1100>  0.0         0.0     0.0\n",
      "|1101>  0.0         0.0     0.0\n",
      "|1110>  0.0         0.0     0.0\n",
      "|1111>  0.0         0.0     0.0\n",
      "tau 3.1948399867014845 measure_step 30 res 60 \n",
      "\n",
      "time step: 30\n",
      "        IBM-Q   QuTip  \n",
      "|0000>  0.201     0.205  -0.004\n",
      "|0001>  0.0         0.0     0.0\n",
      "|0010>  0.0         0.0     0.0\n",
      "|0011>  0.064     0.072  -0.008\n",
      "|0100>  0.0         0.0     0.0\n",
      "|0101>  0.113     0.106   0.007\n",
      "|0110>  0.037     0.041  -0.004\n",
      "|0111>  0.0         0.0     0.0\n",
      "|1000>  0.0         0.0     0.0\n",
      "|1001>  0.415     0.398   0.017\n",
      "|1010>  0.096     0.106   -0.01\n",
      "|1011>  0.0         0.0     0.0\n",
      "|1100>  0.074     0.072   0.002\n",
      "|1101>  0.0         0.0     0.0\n",
      "|1110>  0.0         0.0     0.0\n",
      "|1111>  0.0         0.0     0.0\n"
     ]
    },
    {
     "ename": "IndexError",
     "evalue": "index 60 is out of bounds for axis 0 with size 60",
     "output_type": "error",
     "traceback": [
      "\u001b[0;31m---------------------------------------------------------------------------\u001b[0m",
      "\u001b[0;31mIndexError\u001b[0m                                Traceback (most recent call last)",
      "\u001b[0;32m<ipython-input-38-0e679ab33236>\u001b[0m in \u001b[0;36m<module>\u001b[0;34m\u001b[0m\n\u001b[1;32m     29\u001b[0m             \u001b[0mprint\u001b[0m\u001b[0;34m(\u001b[0m\u001b[0;34m'{0:7} {1:7} {2:7} {3:7}'\u001b[0m\u001b[0;34m.\u001b[0m\u001b[0mformat\u001b[0m\u001b[0;34m(\u001b[0m\u001b[0;34m'|'\u001b[0m\u001b[0;34m+\u001b[0m\u001b[0mtxt\u001b[0m\u001b[0;34m+\u001b[0m\u001b[0;34m'>'\u001b[0m\u001b[0;34m,\u001b[0m \u001b[0mstr\u001b[0m\u001b[0;34m(\u001b[0m\u001b[0mibmq_val\u001b[0m\u001b[0;34m)\u001b[0m\u001b[0;34m,\u001b[0m \u001b[0mqutip_val\u001b[0m\u001b[0;34m,\u001b[0m \u001b[0mdiff\u001b[0m\u001b[0;34m)\u001b[0m\u001b[0;34m)\u001b[0m\u001b[0;34m\u001b[0m\u001b[0;34m\u001b[0m\u001b[0m\n\u001b[1;32m     30\u001b[0m \u001b[0;34m\u001b[0m\u001b[0m\n\u001b[0;32m---> 31\u001b[0;31m \u001b[0mrun_simulation\u001b[0m\u001b[0;34m(\u001b[0m\u001b[0;34m)\u001b[0m\u001b[0;34m\u001b[0m\u001b[0;34m\u001b[0m\u001b[0m\n\u001b[0m",
      "\u001b[0;32m<ipython-input-38-0e679ab33236>\u001b[0m in \u001b[0;36mrun_simulation\u001b[0;34m()\u001b[0m\n\u001b[1;32m      2\u001b[0m     \u001b[0;31m# IBM Q\u001b[0m\u001b[0;34m\u001b[0m\u001b[0;34m\u001b[0m\u001b[0;34m\u001b[0m\u001b[0m\n\u001b[1;32m      3\u001b[0m     \u001b[0;32mfor\u001b[0m \u001b[0mmeasure_step\u001b[0m \u001b[0;32min\u001b[0m \u001b[0;34m[\u001b[0m\u001b[0mint\u001b[0m\u001b[0;34m(\u001b[0m\u001b[0mfloor\u001b[0m\u001b[0;34m(\u001b[0m\u001b[0mi\u001b[0m\u001b[0;34m)\u001b[0m\u001b[0;34m)\u001b[0m\u001b[0;32mfor\u001b[0m \u001b[0mi\u001b[0m \u001b[0;32min\u001b[0m \u001b[0mlinspace\u001b[0m\u001b[0;34m(\u001b[0m\u001b[0;36m0.\u001b[0m\u001b[0;34m,\u001b[0m \u001b[0mres\u001b[0m\u001b[0;34m,\u001b[0m \u001b[0;36m3\u001b[0m\u001b[0;34m,\u001b[0m \u001b[0mendpoint\u001b[0m\u001b[0;34m=\u001b[0m\u001b[0;32mTrue\u001b[0m\u001b[0;34m)\u001b[0m\u001b[0;34m]\u001b[0m \u001b[0;34m:\u001b[0m\u001b[0;34m\u001b[0m\u001b[0;34m\u001b[0m\u001b[0m\n\u001b[0;32m----> 4\u001b[0;31m         \u001b[0mtau\u001b[0m \u001b[0;34m=\u001b[0m \u001b[0mtimes\u001b[0m\u001b[0;34m[\u001b[0m\u001b[0mmeasure_step\u001b[0m\u001b[0;34m]\u001b[0m\u001b[0;34m\u001b[0m\u001b[0;34m\u001b[0m\u001b[0m\n\u001b[0m\u001b[1;32m      5\u001b[0m         \u001b[0mshots\u001b[0m \u001b[0;34m=\u001b[0m \u001b[0;36m2048\u001b[0m\u001b[0;34m\u001b[0m\u001b[0;34m\u001b[0m\u001b[0m\n\u001b[1;32m      6\u001b[0m         \u001b[0mq\u001b[0m \u001b[0;34m=\u001b[0m \u001b[0mQuantumRegister\u001b[0m\u001b[0;34m(\u001b[0m\u001b[0;36m4\u001b[0m\u001b[0;34m,\u001b[0m \u001b[0;34m'q'\u001b[0m\u001b[0;34m)\u001b[0m             \u001b[0;31m#(size, name)\u001b[0m\u001b[0;34m\u001b[0m\u001b[0;34m\u001b[0m\u001b[0m\n",
      "\u001b[0;31mIndexError\u001b[0m: index 60 is out of bounds for axis 0 with size 60"
     ]
    }
   ],
   "source": [
    "def run_simulation():\n",
    "    # IBM Q\n",
    "    for measure_step in [int(floor(i))for i in linspace(0., res, 3, endpoint=True)] :\n",
    "        tau = times[measure_step]\n",
    "        shots = 2048                            \n",
    "        q = QuantumRegister(4, 'q')             #(size, name)\n",
    "        c = ClassicalRegister(4, 'c')           # \n",
    "        circ = QuantumCircuit(q)\n",
    "        isingTrotter(circ, q, tau, 800, h, J)\n",
    "        meas = QuantumCircuit(q, c)\n",
    "        meas.barrier(q)\n",
    "        meas.measure(q,c)\n",
    "        qc = circ+meas\n",
    "        job = execute(qc, backend = BasicAer.get_backend('qasm_simulator'), shots=shots, seed=8)\n",
    "        result = job.result()\n",
    "        counts = result.get_counts(qc)\n",
    "        counts = confs(counts, N)\n",
    "        print('tau', tau, 'measure_step', measure_step, 'res', res, '')\n",
    "        print('\\ntime step: ' + str(measure_step))\n",
    "        print('{0:7} {1:7} {2:7}'.format('', 'IBM-Q', 'QuTip'))\n",
    "        for i in range(2**N) :\n",
    "            conf = [int(x) for x in bin(i)[2:]]\n",
    "            for j in range(N - len(conf)) :\n",
    "                conf = [0] + conf\n",
    "            txt = ''.join(map(str, conf))\n",
    "            ibmq_val = np.round(np.float(counts[txt])/np.float(shots), 3)\n",
    "            qutip_val = np.round(results[i+1][measure_step], 3)\n",
    "            diff = np.round((ibmq_val - qutip_val), 3)\n",
    "            print('{0:7} {1:7} {2:7} {3:7}'.format('|'+txt+'>', str(ibmq_val), qutip_val, diff))\n",
    "\n",
    "run_simulation()"
   ]
  },
  {
   "cell_type": "code",
   "execution_count": 28,
   "metadata": {},
   "outputs": [
    {
     "name": "stdout",
     "output_type": "stream",
     "text": [
      "h_testval -1.0\n",
      "evolve func: mesolve <class 'function'> <function mesolve at 0x1136ea378>\n",
      "h_testval -0.5\n",
      "evolve func: mesolve <class 'function'> <function mesolve at 0x1136ea378>\n",
      "h_testval 0.0\n",
      "evolve func: mesolve <class 'function'> <function mesolve at 0x1136ea378>\n",
      "h_testval 0.5\n",
      "evolve func: mesolve <class 'function'> <function mesolve at 0x1136ea378>\n",
      "h_testval 1.0\n",
      "evolve func: mesolve <class 'function'> <function mesolve at 0x1136ea378>\n"
     ]
    }
   ],
   "source": [
    "# Test: vary H\n",
    "#       fix N, t_max, res, J\n",
    "\n",
    "# QUTIP RESULTS\n",
    "# size of system, number of particles, number of qubits\n",
    "N = 5\n",
    "# q: maximum \"time\" to pass\n",
    "t_max = 2.*np.pi\n",
    "\n",
    "# q: res \n",
    "res = 60\n",
    "\n",
    "# q: times? array of $res$ numbers from 0 to t_max\n",
    "times = np.linspace(0.0, t_max, res)\n",
    "\n",
    "# interparticle magnetic coupling strength\n",
    "J = np.random.uniform(-1., 1.)\n",
    "\n",
    "# 'at which (discrete) evolution time steps we wish to compare QuTip and IBM Q'\n",
    "timesteps = []\n",
    "\n",
    "# prepare initial state and measured states\n",
    "psi0 = tensor([basis(2, 0) for i in range(N)])\n",
    "\n",
    "# vary h\n",
    "# strength of transverse magnetic field \n",
    "h = np.random.uniform(-1., 1.)\n",
    "# get the results for H = -1 to 1, for 10 intervals\n",
    "#    get the Qutip and IBMQ results\n",
    "#    get deviations, standard deviation, average\n",
    "#    hypothesis: low standard deviation, h plays little role in error\n",
    "\n",
    "h_start = -1\n",
    "h_end = 1\n",
    "h_intervals = 5\n",
    "\n",
    "h_to_error = {}\n",
    "\n",
    "for h_testval in [float(H) for H in linspace(h_start, h_end, h_intervals, endpoint=True)]:\n",
    "    print('h_testval', h_testval)\n",
    "    \n",
    "    # QUTIP RESULTS for h_testval\n",
    "    # continuous time evolution using QuTip\n",
    "    Hamiltonian = Ising(h_testval, J, N)\n",
    "    initial = [0] + [np.zeros(res) for i in range(2**N)]\n",
    "    results = evolve(psi0, Hamiltonian, times, res, measurement, initial)\n",
    "    \n",
    "    # IBMQ results\n",
    "    \n",
    "    \n",
    "    "
   ]
  },
  {
   "cell_type": "code",
   "execution_count": 21,
   "metadata": {},
   "outputs": [],
   "source": [
    "def play_simulation():\n",
    "    # IBM Q\n",
    "    for measure_step in [int(floor(i))for i in linspace(0., res, 2, endpoint=False)] :\n",
    "        print('measure_step', measure_step)\n",
    "        tau = times[measure_step]\n",
    "        shots = 2048                            \n",
    "        q = QuantumRegister(4, 'q')             #(size, name)\n",
    "        c = ClassicalRegister(4, 'c')           # \n",
    "        circ = QuantumCircuit(q)\n",
    "        isingTrotter(circ, q, tau, 800, h, J)\n",
    "        meas = QuantumCircuit(q, c)\n",
    "        meas.barrier(q)\n",
    "        meas.measure(q, c)\n",
    "        qc = circ+meas\n",
    "        '''\n",
    "        job = execute(qc, backend = BasicAer.get_backend('qasm_simulator'), shots=shots, seed=8)\n",
    "        result = job.result()\n",
    "        counts = result.get_counts(qc)\n",
    "        counts = confs(counts, N)\n",
    "        print('measure_step', measure_step, 'tau', tau)\n",
    "        print('\\ntime step: ' + str(measure_step))\n",
    "        print('{0:7} {1:7} {2:7}'.format('', 'IBM-Q', 'QuTip'))\n",
    "        for i in range(2**N) :\n",
    "            conf = [int(x) for x in bin(i)[2:]]\n",
    "            for j in range(N - len(conf)) :\n",
    "                conf = [0] + conf\n",
    "            txt = ''.join(map(str, conf))\n",
    "            print('{0:7} {1:7} {2:7}'.format('|'+txt+'>', str(np.round(np.float(counts[txt])/np.float(shots), 3)), np.round(results[i+1][measure_step], 3)))\n",
    "            '''\n"
   ]
  },
  {
   "cell_type": "code",
   "execution_count": 22,
   "metadata": {},
   "outputs": [
    {
     "name": "stdout",
     "output_type": "stream",
     "text": [
      "measure_step 0\n",
      "measure_step 30\n"
     ]
    }
   ],
   "source": [
    "play_simulation()"
   ]
  },
  {
   "cell_type": "markdown",
   "metadata": {},
   "source": [
    " # Modulating h, J, N and res (K) to note the performances changes"
   ]
  },
  {
   "cell_type": "markdown",
   "metadata": {},
   "source": [
    "## How do we define performance?\n",
    "- accuracy\n",
    "- speed? (we don't care much about this one.. too many factors to keep in mind)\n",
    "\n",
    "#### Accuracy\n",
    "the magnitude of error observed between QuTip (numerically computed values) and Qiskit (Quantum simulator)"
   ]
  },
  {
   "cell_type": "markdown",
   "metadata": {},
   "source": [
    "## Modulating h with J = 0 (no interatomic forces)\n",
    "q: because we are not time evolving this system, is there a meaningful result? \n",
    "- We create a Hamiltonian H. Is this the initial state of psi? Why are values of H varying? Shouldnt all values be initialized to 0?\n",
    "==> My guess is there that changing H is not meaningful without time evolving the system."
   ]
  },
  {
   "cell_type": "code",
   "execution_count": 66,
   "metadata": {},
   "outputs": [
    {
     "data": {
      "text/plain": [
       "'\\nN_1 = 2\\nK = 100\\nh = 0\\nJ = 0\\n\\n# modulating h\\nnum_partitions = 5\\nstart = -1\\nend = 1\\nstep_change = (end - start) / num_partitions\\nfor h_test in np.arange(start, end, step_change):\\n    print(\"h_test:\", h_test)\\n    H = Ising(h_test, J, N_1)\\n    print(\\'------------------------------\\n\\')\\n\\n# q: how can we interpret the elements in H?\\n'"
      ]
     },
     "execution_count": 66,
     "metadata": {},
     "output_type": "execute_result"
    }
   ],
   "source": [
    "'''\n",
    "N_1 = 2\n",
    "K = 100\n",
    "h = 0\n",
    "J = 0\n",
    "\n",
    "# modulating h\n",
    "num_partitions = 5\n",
    "start = -1\n",
    "end = 1\n",
    "step_change = (end - start) / num_partitions\n",
    "for h_test in np.arange(start, end, step_change):\n",
    "    print(\"h_test:\", h_test)\n",
    "    H = Ising(h_test, J, N_1)\n",
    "    print('------------------------------\\n')\n",
    "\n",
    "# q: how can we interpret the elements in H?\n",
    "'''"
   ]
  },
  {
   "cell_type": "markdown",
   "metadata": {},
   "source": [
    "## Modulating J with no external magnetic field h\n",
    "q: same question as the one where we modulated h"
   ]
  },
  {
   "cell_type": "code",
   "execution_count": 32,
   "metadata": {},
   "outputs": [
    {
     "name": "stdout",
     "output_type": "stream",
     "text": [
      "J: -1.0\n",
      "------------------------------\n",
      "\n",
      "J: -0.6\n",
      "------------------------------\n",
      "\n",
      "J: -0.19999999999999996\n",
      "------------------------------\n",
      "\n",
      "J: 0.20000000000000018\n",
      "------------------------------\n",
      "\n",
      "J: 0.6000000000000001\n",
      "------------------------------\n",
      "\n"
     ]
    }
   ],
   "source": [
    "N_2 = 2\n",
    "h_2 = 0\n",
    "start = -1\n",
    "end = 1\n",
    "steps = 5\n",
    "step_change = (end - start) / steps\n",
    "for j_test in np.arange(start, end, step_change):\n",
    "    print('J:', j_test)\n",
    "    H = Ising(h, j_test, N_2, False)\n",
    "    print('------------------------------\\n')"
   ]
  },
  {
   "cell_type": "code",
   "execution_count": null,
   "metadata": {},
   "outputs": [],
   "source": []
  }
 ],
 "metadata": {
  "kernelspec": {
   "display_name": "Python 3",
   "language": "python",
   "name": "python3"
  },
  "language_info": {
   "codemirror_mode": {
    "name": "ipython",
    "version": 3
   },
   "file_extension": ".py",
   "mimetype": "text/x-python",
   "name": "python",
   "nbconvert_exporter": "python",
   "pygments_lexer": "ipython3",
   "version": "3.7.3"
  }
 },
 "nbformat": 4,
 "nbformat_minor": 2
}
